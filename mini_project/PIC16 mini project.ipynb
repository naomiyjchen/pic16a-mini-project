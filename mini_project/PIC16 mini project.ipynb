{
 "cells": [
  {
   "cell_type": "markdown",
   "metadata": {},
   "source": [
    "Group Members:  Youjun Chen, Yuriko Sanno, Zhiyuan Ren"
   ]
  },
  {
   "cell_type": "markdown",
   "metadata": {},
   "source": [
    "# Group contribution statement: \n",
    "Youjun worked on the figures for exploratory data analysis, feature selection, as well as the decision trees model. Yuriko worked on the table for exploratory data analysis as well the SVC model. Zhiyuan worked on the feature selection as well as the multinomial logistic regression model. We all worked together to improve each others’ codes as well as write-up. \n"
   ]
  },
  {
   "cell_type": "markdown",
   "metadata": {},
   "source": [
    "# Project Summary: \n",
    "For our project, we attempted to find what would be the best combination of predictor variables to predict Species from the Penguin dataset. We first created various figures/tables to understand the overall structure of the dataset and hypothesized on potential combinations of variables. Then, we conducted feature selection with combinations for 2,3 and 4 variables and narrowed down to 2 predictor variables: Culmen length (mm) and Culmen Depth (mm). We ensured that these variables predicted Species successfully by testing on 3 different models: multinomial logistic regression, decision tree and SVC. We found that our selected variables consistently produced test scores of 0.90 or above for all three models. \n",
    "\n",
    "\n"
   ]
  },
  {
   "cell_type": "code",
   "execution_count": 1,
   "metadata": {},
   "outputs": [],
   "source": [
    "# required libraries\n",
    "import pandas as pd\n",
    "import numpy as np\n",
    "import urllib\n",
    "import random\n",
    "from matplotlib import pyplot as plt"
   ]
  },
  {
   "cell_type": "code",
   "execution_count": 2,
   "metadata": {},
   "outputs": [],
   "source": [
    "np.random.seed(1234) #fix the randomness"
   ]
  },
  {
   "cell_type": "markdown",
   "metadata": {},
   "source": [
    "# Exploratory Data Analysis"
   ]
  },
  {
   "cell_type": "markdown",
   "metadata": {},
   "source": [
    "### Load the data"
   ]
  },
  {
   "cell_type": "code",
   "execution_count": 3,
   "metadata": {},
   "outputs": [],
   "source": [
    "# download the data\n",
    "url = \"https://philchodrow.github.io/PIC16A/datasets/palmer_penguins.csv\"\n",
    "filedata = urllib.request.urlopen(url)\n",
    "to_write = filedata.read()\n",
    "\n",
    "with open(\"palmer_penguins.csv\", \"wb\") as f:\n",
    "    f.write(to_write)"
   ]
  },
  {
   "cell_type": "code",
   "execution_count": 4,
   "metadata": {
    "scrolled": false
   },
   "outputs": [
    {
     "data": {
      "text/html": [
       "<div>\n",
       "<style scoped>\n",
       "    .dataframe tbody tr th:only-of-type {\n",
       "        vertical-align: middle;\n",
       "    }\n",
       "\n",
       "    .dataframe tbody tr th {\n",
       "        vertical-align: top;\n",
       "    }\n",
       "\n",
       "    .dataframe thead th {\n",
       "        text-align: right;\n",
       "    }\n",
       "</style>\n",
       "<table border=\"1\" class=\"dataframe\">\n",
       "  <thead>\n",
       "    <tr style=\"text-align: right;\">\n",
       "      <th></th>\n",
       "      <th>studyName</th>\n",
       "      <th>Sample Number</th>\n",
       "      <th>Species</th>\n",
       "      <th>Region</th>\n",
       "      <th>Island</th>\n",
       "      <th>Stage</th>\n",
       "      <th>Individual ID</th>\n",
       "      <th>Clutch Completion</th>\n",
       "      <th>Date Egg</th>\n",
       "      <th>Culmen Length (mm)</th>\n",
       "      <th>Culmen Depth (mm)</th>\n",
       "      <th>Flipper Length (mm)</th>\n",
       "      <th>Body Mass (g)</th>\n",
       "      <th>Sex</th>\n",
       "      <th>Delta 15 N (o/oo)</th>\n",
       "      <th>Delta 13 C (o/oo)</th>\n",
       "      <th>Comments</th>\n",
       "    </tr>\n",
       "  </thead>\n",
       "  <tbody>\n",
       "    <tr>\n",
       "      <th>0</th>\n",
       "      <td>PAL0708</td>\n",
       "      <td>1</td>\n",
       "      <td>Adelie Penguin (Pygoscelis adeliae)</td>\n",
       "      <td>Anvers</td>\n",
       "      <td>Torgersen</td>\n",
       "      <td>Adult, 1 Egg Stage</td>\n",
       "      <td>N1A1</td>\n",
       "      <td>Yes</td>\n",
       "      <td>11/11/07</td>\n",
       "      <td>39.1</td>\n",
       "      <td>18.7</td>\n",
       "      <td>181.0</td>\n",
       "      <td>3750.0</td>\n",
       "      <td>MALE</td>\n",
       "      <td>NaN</td>\n",
       "      <td>NaN</td>\n",
       "      <td>Not enough blood for isotopes.</td>\n",
       "    </tr>\n",
       "    <tr>\n",
       "      <th>1</th>\n",
       "      <td>PAL0708</td>\n",
       "      <td>2</td>\n",
       "      <td>Adelie Penguin (Pygoscelis adeliae)</td>\n",
       "      <td>Anvers</td>\n",
       "      <td>Torgersen</td>\n",
       "      <td>Adult, 1 Egg Stage</td>\n",
       "      <td>N1A2</td>\n",
       "      <td>Yes</td>\n",
       "      <td>11/11/07</td>\n",
       "      <td>39.5</td>\n",
       "      <td>17.4</td>\n",
       "      <td>186.0</td>\n",
       "      <td>3800.0</td>\n",
       "      <td>FEMALE</td>\n",
       "      <td>8.94956</td>\n",
       "      <td>-24.69454</td>\n",
       "      <td>NaN</td>\n",
       "    </tr>\n",
       "    <tr>\n",
       "      <th>2</th>\n",
       "      <td>PAL0708</td>\n",
       "      <td>3</td>\n",
       "      <td>Adelie Penguin (Pygoscelis adeliae)</td>\n",
       "      <td>Anvers</td>\n",
       "      <td>Torgersen</td>\n",
       "      <td>Adult, 1 Egg Stage</td>\n",
       "      <td>N2A1</td>\n",
       "      <td>Yes</td>\n",
       "      <td>11/16/07</td>\n",
       "      <td>40.3</td>\n",
       "      <td>18.0</td>\n",
       "      <td>195.0</td>\n",
       "      <td>3250.0</td>\n",
       "      <td>FEMALE</td>\n",
       "      <td>8.36821</td>\n",
       "      <td>-25.33302</td>\n",
       "      <td>NaN</td>\n",
       "    </tr>\n",
       "  </tbody>\n",
       "</table>\n",
       "</div>"
      ],
      "text/plain": [
       "  studyName  Sample Number                              Species  Region  \\\n",
       "0   PAL0708              1  Adelie Penguin (Pygoscelis adeliae)  Anvers   \n",
       "1   PAL0708              2  Adelie Penguin (Pygoscelis adeliae)  Anvers   \n",
       "2   PAL0708              3  Adelie Penguin (Pygoscelis adeliae)  Anvers   \n",
       "\n",
       "      Island               Stage Individual ID Clutch Completion  Date Egg  \\\n",
       "0  Torgersen  Adult, 1 Egg Stage          N1A1               Yes  11/11/07   \n",
       "1  Torgersen  Adult, 1 Egg Stage          N1A2               Yes  11/11/07   \n",
       "2  Torgersen  Adult, 1 Egg Stage          N2A1               Yes  11/16/07   \n",
       "\n",
       "   Culmen Length (mm)  Culmen Depth (mm)  Flipper Length (mm)  Body Mass (g)  \\\n",
       "0                39.1               18.7                181.0         3750.0   \n",
       "1                39.5               17.4                186.0         3800.0   \n",
       "2                40.3               18.0                195.0         3250.0   \n",
       "\n",
       "      Sex  Delta 15 N (o/oo)  Delta 13 C (o/oo)  \\\n",
       "0    MALE                NaN                NaN   \n",
       "1  FEMALE            8.94956          -24.69454   \n",
       "2  FEMALE            8.36821          -25.33302   \n",
       "\n",
       "                         Comments  \n",
       "0  Not enough blood for isotopes.  \n",
       "1                             NaN  \n",
       "2                             NaN  "
      ]
     },
     "execution_count": 4,
     "metadata": {},
     "output_type": "execute_result"
    }
   ],
   "source": [
    "penguins = pd.read_csv(\"palmer_penguins.csv\") # read data to pandas data frame\n",
    "penguins.head(3)"
   ]
  },
  {
   "cell_type": "markdown",
   "metadata": {},
   "source": [
    "In this dataset, there are 8 variables we could potentially use to protect species. \n",
    "- 2 qualitative variables: \"Sex\", \"Island\"\n",
    "- 6 quantitative variables: \"Flipper Length (mm)\", \"Body Mass (g)\", \"Culmen Length (mm)\", \"Culmen Depth (mm)\", \"Delta 15 N (o/oo)\", \"Delta 13 C (o/oo)\""
   ]
  },
  {
   "cell_type": "code",
   "execution_count": 5,
   "metadata": {},
   "outputs": [],
   "source": [
    "# shorten the species name\n",
    "penguins[\"Species\"] = penguins[\"Species\"].str.split().str.get(0)"
   ]
  },
  {
   "cell_type": "code",
   "execution_count": 6,
   "metadata": {},
   "outputs": [],
   "source": [
    "def penguin_summary_table(group_cols, value_cols):\n",
    "    '''generates means for given variables\n",
    "    \n",
    "    group_cols: list, the group we want to look at\n",
    "    value_cols: list, the values we want to look at for each group\n",
    "    '''\n",
    "    my_data = penguins.groupby(group_cols)[value_cols].mean()\n",
    "    return my_data.round(2)"
   ]
  },
  {
   "cell_type": "markdown",
   "metadata": {},
   "source": [
    "In order to first understand the overall structure as well as the general trend of each variable, we created a table that computes the mean score of all quantitative variables for each species."
   ]
  },
  {
   "cell_type": "code",
   "execution_count": 7,
   "metadata": {},
   "outputs": [
    {
     "data": {
      "text/html": [
       "<div>\n",
       "<style scoped>\n",
       "    .dataframe tbody tr th:only-of-type {\n",
       "        vertical-align: middle;\n",
       "    }\n",
       "\n",
       "    .dataframe tbody tr th {\n",
       "        vertical-align: top;\n",
       "    }\n",
       "\n",
       "    .dataframe thead th {\n",
       "        text-align: right;\n",
       "    }\n",
       "</style>\n",
       "<table border=\"1\" class=\"dataframe\">\n",
       "  <thead>\n",
       "    <tr style=\"text-align: right;\">\n",
       "      <th></th>\n",
       "      <th>Flipper Length (mm)</th>\n",
       "      <th>Body Mass (g)</th>\n",
       "      <th>Culmen Length (mm)</th>\n",
       "      <th>Culmen Depth (mm)</th>\n",
       "      <th>Delta 15 N (o/oo)</th>\n",
       "      <th>Delta 13 C (o/oo)</th>\n",
       "    </tr>\n",
       "    <tr>\n",
       "      <th>Species</th>\n",
       "      <th></th>\n",
       "      <th></th>\n",
       "      <th></th>\n",
       "      <th></th>\n",
       "      <th></th>\n",
       "      <th></th>\n",
       "    </tr>\n",
       "  </thead>\n",
       "  <tbody>\n",
       "    <tr>\n",
       "      <th>Adelie</th>\n",
       "      <td>189.95</td>\n",
       "      <td>3700.66</td>\n",
       "      <td>38.79</td>\n",
       "      <td>18.35</td>\n",
       "      <td>8.86</td>\n",
       "      <td>-25.80</td>\n",
       "    </tr>\n",
       "    <tr>\n",
       "      <th>Chinstrap</th>\n",
       "      <td>195.82</td>\n",
       "      <td>3733.09</td>\n",
       "      <td>48.83</td>\n",
       "      <td>18.42</td>\n",
       "      <td>9.36</td>\n",
       "      <td>-24.55</td>\n",
       "    </tr>\n",
       "    <tr>\n",
       "      <th>Gentoo</th>\n",
       "      <td>217.19</td>\n",
       "      <td>5076.02</td>\n",
       "      <td>47.50</td>\n",
       "      <td>14.98</td>\n",
       "      <td>8.25</td>\n",
       "      <td>-26.19</td>\n",
       "    </tr>\n",
       "  </tbody>\n",
       "</table>\n",
       "</div>"
      ],
      "text/plain": [
       "           Flipper Length (mm)  Body Mass (g)  Culmen Length (mm)  \\\n",
       "Species                                                             \n",
       "Adelie                  189.95        3700.66               38.79   \n",
       "Chinstrap               195.82        3733.09               48.83   \n",
       "Gentoo                  217.19        5076.02               47.50   \n",
       "\n",
       "           Culmen Depth (mm)  Delta 15 N (o/oo)  Delta 13 C (o/oo)  \n",
       "Species                                                             \n",
       "Adelie                 18.35               8.86             -25.80  \n",
       "Chinstrap              18.42               9.36             -24.55  \n",
       "Gentoo                 14.98               8.25             -26.19  "
      ]
     },
     "execution_count": 7,
     "metadata": {},
     "output_type": "execute_result"
    }
   ],
   "source": [
    "penguin_summary_table([\"Species\"], [\"Flipper Length (mm)\", \"Body Mass (g)\", \"Culmen Length (mm)\", \"Culmen Depth (mm)\", \"Delta 15 N (o/oo)\", \"Delta 13 C (o/oo)\"])"
   ]
  },
  {
   "cell_type": "markdown",
   "metadata": {},
   "source": [
    "We notice that Flipper Length (mm),\tBody Mass (g),\tCulmen Length (mm), and\tCulmen Depth (mm) all have at least certain species that stands out from the rest. These variables could potentially help us to distinguish species so we looked further these variables using scatter plots.\n",
    "\n",
    "First, we looked at \"Culmen Length (mm)\" and \"Culmen Depth (mm)\". "
   ]
  },
  {
   "cell_type": "code",
   "execution_count": 8,
   "metadata": {},
   "outputs": [
    {
     "data": {
      "image/png": "[encoded data removed]",
      "text/plain": [
       "<Figure size 432x288 with 1 Axes>"
      ]
     },
     "metadata": {
      "needs_background": "light"
     },
     "output_type": "display_data"
    }
   ],
   "source": [
    "fig, ax = plt.subplots(1)\n",
    "ax.set(xlabel = \"Culmen Length (mm)\", ylabel = \"Culmen Depth (mm)\")\n",
    "\n",
    "for species in set(penguins.Species):\n",
    "    one_species = penguins[penguins.Species == species]\n",
    "    ax.scatter(one_species[\"Culmen Length (mm)\"],one_species[\"Culmen Depth (mm)\"], label = species, alpha = 0.5)\n",
    "                                                \n",
    "ax.legend()\n",
    "plt.show()"
   ]
  },
  {
   "cell_type": "markdown",
   "metadata": {},
   "source": [
    "For Culmen Length, we can distinguish Gentoo and Adelie well except for those in 40-45mm region; however, there is a significant overlap with Gentoo and Chinstrap. On the other hand, Culmen Length distinguishes Adelie and Gentoo well but there is an overlap between Chinstrap and Adelie. From this graph, we can see each variable alone is not sufficient to predict species, however, they may make a good set of predictor variables when combined together. "
   ]
  },
  {
   "cell_type": "markdown",
   "metadata": {},
   "source": [
    "We then looked at \"Body Mass (g)\" and \"Flipper Length (mm)\"."
   ]
  },
  {
   "cell_type": "code",
   "execution_count": 9,
   "metadata": {},
   "outputs": [
    {
     "data": {
      "image/png": "[encoded data removed]",
      "text/plain": [
       "<Figure size 432x288 with 1 Axes>"
      ]
     },
     "metadata": {
      "needs_background": "light"
     },
     "output_type": "display_data"
    }
   ],
   "source": [
    "fig, ax = plt.subplots(1)\n",
    "ax.set(xlabel = \"Flipper Length (mm)\", ylabel = \"Body Mass (g)\")\n",
    "\n",
    "for species in set(penguins.Species):\n",
    "    one_species = penguins[penguins.Species == species]\n",
    "    ax.scatter(one_species[\"Flipper Length (mm)\"],one_species[\"Body Mass (g)\"], label = species, alpha = 0.5)\n",
    "                                                \n",
    "ax.legend()\n",
    "plt.show()"
   ]
  },
  {
   "cell_type": "markdown",
   "metadata": {},
   "source": [
    "Flipper Length distinguishes Gentoo and Adelie well; however, there is a significant overlap with Adelie and Chinstrap. \n",
    "Body Mass distingushes Gentoo and Adelie, though there is a bit of overlap in 4000-5000g region. For Adelie and Chinstrap, the body mass also fails to distinguish the two as threre is a significant overlap. "
   ]
  },
  {
   "cell_type": "markdown",
   "metadata": {},
   "source": [
    "We also looked at \"Delta 15 N (o/oo)\" and \"Delta 13 C (o/oo)\"."
   ]
  },
  {
   "cell_type": "code",
   "execution_count": 10,
   "metadata": {},
   "outputs": [
    {
     "data": {
      "image/png": "[encoded data removed]",
      "text/plain": [
       "<Figure size 432x288 with 1 Axes>"
      ]
     },
     "metadata": {
      "needs_background": "light"
     },
     "output_type": "display_data"
    }
   ],
   "source": [
    "fig, ax = plt.subplots(1)\n",
    "ax.set(xlabel = \"Delta 15 N (o/oo)\", ylabel = \"Delta 13 C (o/oo)\")\n",
    "\n",
    "for species in set(penguins.Species):\n",
    "    one_species = penguins[penguins.Species == species]\n",
    "    ax.scatter(one_species[\"Delta 15 N (o/oo)\"],one_species[\"Delta 13 C (o/oo)\"], label = species, alpha = 0.5)\n",
    "                                                \n",
    "ax.legend()\n",
    "plt.show()"
   ]
  },
  {
   "cell_type": "markdown",
   "metadata": {},
   "source": [
    "As we hypothesized from the table, it is difficult to distinguish species from these variables. For both Delata 13C and 15N, Adelie penguin have a wide range of value. This makes it difficult to distinguish Adelie from the other two species in both Delta 15N and Delta 13C. Because of this, these two variables may not be ideal predictor variables. "
   ]
  },
  {
   "cell_type": "markdown",
   "metadata": {},
   "source": [
    "From these figures we think that we hypothesized \"Culmen Length (mm)\", \"Culmen Depth (mm)\" and potentially \"Flipper Length (mm)\", \"Body Mass (g)\" could be the optimal predictive variables."
   ]
  },
  {
   "cell_type": "markdown",
   "metadata": {},
   "source": [
    "# Modeling\n",
    "In this section, we conducted feature selection to test our hypothesis."
   ]
  },
  {
   "cell_type": "code",
   "execution_count": 11,
   "metadata": {},
   "outputs": [],
   "source": [
    "#Select predictor features and remove NAN rows\n",
    "penguins = penguins[[\"Species\",\"Flipper Length (mm)\", \n",
    "                     \"Body Mass (g)\", \"Culmen Length (mm)\", \n",
    "                     \"Culmen Depth (mm)\", \"Delta 15 N (o/oo)\", \"Delta 13 C (o/oo)\",\"Sex\",\"Island\"]].dropna()"
   ]
  },
  {
   "cell_type": "markdown",
   "metadata": {},
   "source": [
    "### Split the data into training and test sets"
   ]
  },
  {
   "cell_type": "code",
   "execution_count": 12,
   "metadata": {},
   "outputs": [],
   "source": [
    "from sklearn.model_selection import train_test_split\n",
    "# hold out 20% of the data for testing\n",
    "train, test = train_test_split(penguins, test_size = 0.2) \n",
    "\n",
    "# holds predictor variables\n",
    "X_train = train[[\"Flipper Length (mm)\", \n",
    "                     \"Body Mass (g)\", \"Culmen Length (mm)\", \n",
    "                     \"Culmen Depth (mm)\", \"Delta 15 N (o/oo)\", \"Delta 13 C (o/oo)\", \"Sex\",\"Island\"]]  \n",
    "\n",
    "# holds target variable\n",
    "y_train = train[[\"Species\"]]\n",
    "\n",
    "# holds predictor variables\n",
    "X_test = test[[\"Flipper Length (mm)\", \n",
    "                     \"Body Mass (g)\", \"Culmen Length (mm)\", \n",
    "                     \"Culmen Depth (mm)\", \"Delta 15 N (o/oo)\", \"Delta 13 C (o/oo)\",\"Sex\",\"Island\"]] \n",
    "\n",
    "# holds target variable\n",
    "y_test = test[[\"Species\"]]"
   ]
  },
  {
   "cell_type": "markdown",
   "metadata": {},
   "source": [
    "### Clean the data\n",
    "We encoded the sex and the species of the penguins as integers"
   ]
  },
  {
   "cell_type": "code",
   "execution_count": 13,
   "metadata": {},
   "outputs": [],
   "source": [
    "from sklearn import preprocessing \n",
    "from sklearn.linear_model import LogisticRegression\n",
    "from sklearn.model_selection import cross_val_score\n",
    "\n",
    "# Create a function to clean data\n",
    "def prep_data(X, y):\n",
    "    '''\n",
    "    encodes qualitative variables in a given dataset to numeric values\n",
    "    \n",
    "    X: dataframe, predictor variables\n",
    "    y: dataframe, target variable\n",
    "    '''\n",
    "    \n",
    "    # First make copies of X and y\n",
    "    X = X.copy() \n",
    "    y = y.copy()\n",
    "    \n",
    "    le = preprocessing.LabelEncoder()\n",
    "    \n",
    "    X['Sex'] = le.fit_transform(X['Sex']) # encode 'Sex' into 0 and 1\n",
    "    X['Island'] = le.fit_transform(X['Island']) # encode 'Island' into numeric values\n",
    "    \n",
    "    y['Species'] = le.fit_transform(y['Species']) # encode 'Species' into numeric values\n",
    "   \n",
    "    return (X, y)\n",
    "\n",
    "# Clean the data\n",
    "X_train, y_train = prep_data(X_train, y_train) \n",
    "X_test, y_test = prep_data(X_test, y_test)\n"
   ]
  },
  {
   "cell_type": "markdown",
   "metadata": {},
   "source": [
    "## Feature Selection"
   ]
  },
  {
   "cell_type": "markdown",
   "metadata": {},
   "source": [
    "We conducted feature selection to select the best combinations of variables. We used multinominal logistic regression as our model."
   ]
  },
  {
   "cell_type": "code",
   "execution_count": 14,
   "metadata": {},
   "outputs": [],
   "source": [
    "from sklearn.linear_model import LogisticRegression\n",
    "def check_column_score(cols):\n",
    "    '''\n",
    "    returns the mean of cross validation score for the logistic regression model\n",
    "    cols: list, name of the predictor variables\n",
    "    \n",
    "    '''\n",
    "    LR = LogisticRegression(multi_class='multinomial',max_iter = 1000) # initiate the model\n",
    "    return cross_val_score(LR, X_train[cols], np.ravel(y_train), cv = 5).mean()  "
   ]
  },
  {
   "cell_type": "code",
   "execution_count": 15,
   "metadata": {},
   "outputs": [],
   "source": [
    "from itertools import combinations \n",
    "# generate the combination of features\n",
    "m = [\"Flipper Length (mm)\", \n",
    "                     \"Body Mass (g)\", \"Culmen Length (mm)\", \n",
    "                     \"Culmen Depth (mm)\", \"Delta 15 N (o/oo)\", \"Delta 13 C (o/oo)\",\"Sex\",\"Island\"]\n",
    "\n",
    "\n",
    "combos_2 = combinations(m, 2) # make combos of 2 features\n",
    "combos_3 = combinations(m, 3) # make combos of 3 features"
   ]
  },
  {
   "cell_type": "code",
   "execution_count": 16,
   "metadata": {},
   "outputs": [
    {
     "name": "stdout",
     "output_type": "stream",
     "text": [
      "('Culmen Length (mm)', 'Island') 0.9615384615384617\n"
     ]
    }
   ],
   "source": [
    "# find the best combination of 2 features\n",
    "best_score = 0\n",
    "best_combo = []\n",
    "# Print the obtained combinations \n",
    "for cols in list(combos_2): \n",
    "    x = check_column_score(list(cols))\n",
    "    if x > best_score:\n",
    "        best_score = x\n",
    "        best_combo = cols\n",
    "        \n",
    "print(best_combo,best_score)"
   ]
  },
  {
   "cell_type": "code",
   "execution_count": 17,
   "metadata": {},
   "outputs": [
    {
     "name": "stdout",
     "output_type": "stream",
     "text": [
      "('Body Mass (g)', 'Culmen Length (mm)', 'Culmen Depth (mm)') 0.9961538461538462\n"
     ]
    }
   ],
   "source": [
    "# find the best combination of 3 features\n",
    "for cols in list(combos_3): \n",
    "    x = check_column_score(list(cols))\n",
    "    #print(cols, x)\n",
    "    if x > best_score:\n",
    "        best_score = x\n",
    "        best_combo = cols\n",
    "        \n",
    "print(best_combo,best_score)"
   ]
  },
  {
   "cell_type": "markdown",
   "metadata": {},
   "source": [
    "Here we found that using three features ('Body Mass (g)', 'Culmen Length (mm)', 'Culmen Depth (mm)') yield highest cv score. So we decided to use these variables for our models."
   ]
  },
  {
   "cell_type": "code",
   "execution_count": 18,
   "metadata": {},
   "outputs": [],
   "source": [
    "# finalize predictor variables\n",
    "X_train = train[['Body Mass (g)', 'Culmen Length (mm)', 'Culmen Depth (mm)']] \n",
    "X_test = test[['Body Mass (g)', 'Culmen Length (mm)', 'Culmen Depth (mm)']]"
   ]
  },
  {
   "cell_type": "markdown",
   "metadata": {},
   "source": [
    "## 1) Multinomial logistic regression\n",
    "Multinomial logistic model in this case generates a function of linear combinations of predictor variables into three dimentional space. Based on the function, it allocate the data points to respective decision regions."
   ]
  },
  {
   "cell_type": "code",
   "execution_count": 19,
   "metadata": {},
   "outputs": [
    {
     "name": "stdout",
     "output_type": "stream",
     "text": [
      "Best C:  1.5\n",
      "Best score:  0.9961538461538462\n"
     ]
    },
    {
     "data": {
      "image/png": "[encoded data removed]",
      "text/plain": [
       "<Figure size 432x288 with 1 Axes>"
      ]
     },
     "metadata": {
      "needs_background": "light"
     },
     "output_type": "display_data"
    }
   ],
   "source": [
    "best_comp = 0\n",
    "bestlr_score = 0\n",
    "fig, ax = plt.subplots(1)\n",
    "\n",
    "for c in np.arange(0.5, 5, 0.5): # find optimal parameter\n",
    "    MLR = LogisticRegression(multi_class='multinomial',max_iter = 1000, C = c)\n",
    "    cv_score = cross_val_score(MLR, X_train, np.ravel(y_train), cv=10).mean()\n",
    "    ax.scatter(c, cv_score, color = \"black\") # plot cv score for each c\n",
    "    \n",
    "    # stores the best model\n",
    "    if cv_score > bestlr_score:\n",
    "        best_comp = c \n",
    "        bestlr_score = cv_score\n",
    "        M = MLR\n",
    "    \n",
    "\n",
    "print(\"Best C: \", best_comp)\n",
    "print(\"Best score: \", bestlr_score)"
   ]
  },
  {
   "cell_type": "code",
   "execution_count": 20,
   "metadata": {},
   "outputs": [
    {
     "name": "stdout",
     "output_type": "stream",
     "text": [
      "Test score:  0.9846153846153847\n"
     ]
    }
   ],
   "source": [
    "M.fit(X_train, np.ravel(y_train))\n",
    "print('Test score: ', M.score(X_test, y_test))"
   ]
  },
  {
   "cell_type": "code",
   "execution_count": 21,
   "metadata": {},
   "outputs": [],
   "source": [
    "from sklearn.metrics import confusion_matrix\n",
    "from sklearn.metrics import plot_confusion_matrix\n",
    "\n",
    "def plot_confusion_matrix_(Model,X_test, y_test):\n",
    "    '''\n",
    "    create and visualize confusion matrix\n",
    "    Model: model\n",
    "    X_test: dataframe, predictor variables\n",
    "    y_test: dataframe, target variable\n",
    "    '''\n",
    "    species_codes =  ['Adelie','Chinstrap','Gentoo']\n",
    "    y_test_pred = Model.predict(X_test)\n",
    "    c = confusion_matrix(y_test, y_test_pred)\n",
    "    #visualize confusion matrix \n",
    "    disp = plot_confusion_matrix(Model, X_test, y_test,\n",
    "                                 display_labels= species_codes,\n",
    "                                 cmap = plt.cm.Blues) \n"
   ]
  },
  {
   "cell_type": "code",
   "execution_count": 22,
   "metadata": {
    "scrolled": true
   },
   "outputs": [
    {
     "data": {
      "image/png": "[encoded data removed]",
      "text/plain": [
       "<Figure size 432x288 with 2 Axes>"
      ]
     },
     "metadata": {
      "needs_background": "light"
     },
     "output_type": "display_data"
    }
   ],
   "source": [
    "plot_confusion_matrix_(M,X_test, y_test)"
   ]
  },
  {
   "cell_type": "code",
   "execution_count": 23,
   "metadata": {},
   "outputs": [
    {
     "data": {
      "text/html": [
       "<div>\n",
       "<style scoped>\n",
       "    .dataframe tbody tr th:only-of-type {\n",
       "        vertical-align: middle;\n",
       "    }\n",
       "\n",
       "    .dataframe tbody tr th {\n",
       "        vertical-align: top;\n",
       "    }\n",
       "\n",
       "    .dataframe thead th {\n",
       "        text-align: right;\n",
       "    }\n",
       "</style>\n",
       "<table border=\"1\" class=\"dataframe\">\n",
       "  <thead>\n",
       "    <tr style=\"text-align: right;\">\n",
       "      <th></th>\n",
       "      <th>Species</th>\n",
       "      <th>Species_pred</th>\n",
       "    </tr>\n",
       "  </thead>\n",
       "  <tbody>\n",
       "    <tr>\n",
       "      <th>160</th>\n",
       "      <td>1</td>\n",
       "      <td>0</td>\n",
       "    </tr>\n",
       "  </tbody>\n",
       "</table>\n",
       "</div>"
      ],
      "text/plain": [
       "     Species  Species_pred\n",
       "160        1             0"
      ]
     },
     "execution_count": 23,
     "metadata": {},
     "output_type": "execute_result"
    }
   ],
   "source": [
    "y_test_pred = M.predict(X_test)\n",
    "Y_test = y_test.copy() #make a copy of y_test dataframe\n",
    "Y_test['Species_pred']= y_test_pred\n",
    "Y_test[(Y_test[\"Species\"] == 1) & (Y_test['Species_pred'] == 0)]"
   ]
  },
  {
   "cell_type": "code",
   "execution_count": 24,
   "metadata": {
    "scrolled": true
   },
   "outputs": [
    {
     "data": {
      "text/plain": [
       "Species                Chinstrap\n",
       "Flipper Length (mm)          195\n",
       "Body Mass (g)               4150\n",
       "Culmen Length (mm)            46\n",
       "Culmen Depth (mm)           18.9\n",
       "Delta 15 N (o/oo)        8.47173\n",
       "Delta 13 C (o/oo)       -24.2923\n",
       "Sex                       FEMALE\n",
       "Island                     Dream\n",
       "Name: 160, dtype: object"
      ]
     },
     "execution_count": 24,
     "metadata": {},
     "output_type": "execute_result"
    }
   ],
   "source": [
    "penguins.loc[160]"
   ]
  },
  {
   "cell_type": "markdown",
   "metadata": {},
   "source": [
    "This one was mistaken for Adelie, but it is Chinstrap. When we look at our figures, we can see that many penguins from both species have 4150 gram body mass. This means that our model need to distinguish the two using either the culmen length or the culmen depth. However, this penguin's culmen length and culmen depth fall right in the middle of both species' range. This ambiguity may have led to this mistake."
   ]
  },
  {
   "cell_type": "markdown",
   "metadata": {},
   "source": [
    "## 2) Decision Trees\n",
    "The decision tree model uses the predictor data to generate decision rules constructed by a series of “if-else'' conditions.  The rules are then used to predict the label (“Species”)."
   ]
  },
  {
   "cell_type": "code",
   "execution_count": 25,
   "metadata": {},
   "outputs": [
    {
     "name": "stdout",
     "output_type": "stream",
     "text": [
      "Best depth:  27\n",
      "Best score:  0.9615384615384617\n"
     ]
    },
    {
     "data": {
      "image/png": "[encoded data removed]",
      "text/plain": [
       "<Figure size 432x288 with 1 Axes>"
      ]
     },
     "metadata": {
      "needs_background": "light"
     },
     "output_type": "display_data"
    }
   ],
   "source": [
    "from sklearn import tree\n",
    "fig, ax = plt.subplots(1)\n",
    "best_score = 0\n",
    "\n",
    "for d in range(1,50): # find optimal parameter\n",
    "    Tree = tree.DecisionTreeClassifier(max_depth = d)\n",
    "    cv_score = cross_val_score(Tree, X_train, y_train, cv=10).mean()\n",
    "    ax.scatter(d, cv_score, color = \"black\") # plot depth for each model\n",
    "    \n",
    "    \n",
    "    # store the best model\n",
    "    if cv_score > best_score:\n",
    "        best_depth = d\n",
    "        best_score = cv_score\n",
    "        T = Tree\n",
    "\n",
    "l = ax.set(title = \"Best Depth : \" + str(best_depth),\n",
    "       xlabel = \"Depth\", \n",
    "       ylabel = \"CV Score\")\n",
    "\n",
    "\n",
    "print(\"Best depth: \", best_depth)\n",
    "print(\"Best score: \", best_score)"
   ]
  },
  {
   "cell_type": "code",
   "execution_count": 26,
   "metadata": {
    "scrolled": true
   },
   "outputs": [
    {
     "name": "stdout",
     "output_type": "stream",
     "text": [
      "Test score:  0.9538461538461539\n"
     ]
    }
   ],
   "source": [
    "T.fit(X_train, y_train)\n",
    "print('Test score: ', T.score(X_test, np.ravel(y_test)))"
   ]
  },
  {
   "cell_type": "code",
   "execution_count": 27,
   "metadata": {
    "scrolled": true
   },
   "outputs": [
    {
     "data": {
      "image/png": "[encoded data removed]",
      "text/plain": [
       "<Figure size 432x288 with 2 Axes>"
      ]
     },
     "metadata": {
      "needs_background": "light"
     },
     "output_type": "display_data"
    }
   ],
   "source": [
    "plot_confusion_matrix_(T,X_test, y_test)"
   ]
  },
  {
   "cell_type": "code",
   "execution_count": 28,
   "metadata": {},
   "outputs": [
    {
     "data": {
      "text/html": [
       "<div>\n",
       "<style scoped>\n",
       "    .dataframe tbody tr th:only-of-type {\n",
       "        vertical-align: middle;\n",
       "    }\n",
       "\n",
       "    .dataframe tbody tr th {\n",
       "        vertical-align: top;\n",
       "    }\n",
       "\n",
       "    .dataframe thead th {\n",
       "        text-align: right;\n",
       "    }\n",
       "</style>\n",
       "<table border=\"1\" class=\"dataframe\">\n",
       "  <thead>\n",
       "    <tr style=\"text-align: right;\">\n",
       "      <th></th>\n",
       "      <th>Species</th>\n",
       "      <th>Species_pred</th>\n",
       "    </tr>\n",
       "  </thead>\n",
       "  <tbody>\n",
       "    <tr>\n",
       "      <th>160</th>\n",
       "      <td>1</td>\n",
       "      <td>0</td>\n",
       "    </tr>\n",
       "  </tbody>\n",
       "</table>\n",
       "</div>"
      ],
      "text/plain": [
       "     Species  Species_pred\n",
       "160        1             0"
      ]
     },
     "execution_count": 28,
     "metadata": {},
     "output_type": "execute_result"
    }
   ],
   "source": [
    "y_test_pred = T.predict(X_test)\n",
    "Y_test = y_test.copy() #make a copy of y_test dataframe\n",
    "Y_test['Species_pred']= y_test_pred\n",
    "Y_test[(Y_test[\"Species\"] == 1) & (Y_test['Species_pred'] == 0)]"
   ]
  },
  {
   "cell_type": "code",
   "execution_count": 29,
   "metadata": {
    "scrolled": true
   },
   "outputs": [
    {
     "data": {
      "text/plain": [
       "Species                Chinstrap\n",
       "Flipper Length (mm)          202\n",
       "Body Mass (g)               3400\n",
       "Culmen Length (mm)          43.5\n",
       "Culmen Depth (mm)           18.1\n",
       "Delta 15 N (o/oo)        9.37608\n",
       "Delta 13 C (o/oo)       -24.4075\n",
       "Sex                       FEMALE\n",
       "Island                     Dream\n",
       "Name: 216, dtype: object"
      ]
     },
     "execution_count": 29,
     "metadata": {},
     "output_type": "execute_result"
    }
   ],
   "source": [
    "penguins.loc[216]"
   ]
  },
  {
   "cell_type": "code",
   "execution_count": 30,
   "metadata": {},
   "outputs": [
    {
     "data": {
      "text/plain": [
       "Species                Chinstrap\n",
       "Flipper Length (mm)          187\n",
       "Body Mass (g)               3350\n",
       "Culmen Length (mm)          42.5\n",
       "Culmen Depth (mm)           17.3\n",
       "Delta 15 N (o/oo)        9.56534\n",
       "Delta 13 C (o/oo)       -24.6088\n",
       "Sex                       FEMALE\n",
       "Island                     Dream\n",
       "Name: 206, dtype: object"
      ]
     },
     "execution_count": 30,
     "metadata": {},
     "output_type": "execute_result"
    }
   ],
   "source": [
    "penguins.loc[206]"
   ]
  },
  {
   "cell_type": "markdown",
   "metadata": {},
   "source": [
    "There are three mistakes made by decision tree model. Again the three Chinstrap penguins' body mass overlap completely with Adelie. Similarly, the three species'culmen length and culmen depth fall right in the middle of both species' range. "
   ]
  },
  {
   "cell_type": "markdown",
   "metadata": {},
   "source": [
    "## 3) Support Vector Machine\n",
    "The SVM model plots each data item as a point in n-dimensional space (in our case, 3-dimensional space). Then it performs classification by finding the hyper-plane that differentiates different classes."
   ]
  },
  {
   "cell_type": "code",
   "execution_count": null,
   "metadata": {},
   "outputs": [],
   "source": [
    "from sklearn import svm\n",
    "fig, ax = plt.subplots(1)\n",
    "best_score = 0\n",
    "\n",
    "#estimate optimal value \n",
    "for g in np.arange(0.05, 0.1, 0.0005):  # find optimal parameter\n",
    "    SVC = svm.SVC(kernel = 'linear', gamma = g).fit(X_train, np.ravel(y_train))\n",
    "    cv_score = cross_val_score(SVC, X_train, np.ravel(y_train), cv=10).mean() #take out 20% for cross val score \n",
    "    ax.scatter(g, cv_score, color = \"black\")\n",
    "    \n",
    "    # store the best model\n",
    "    if cv_score > best_score: #if new cv score is higher than best score, replace that as the new value \n",
    "        best_g = g\n",
    "        best_score = cv_score\n",
    "        S = SVC\n",
    "        \n",
    "print(\"Best gamma value: \", best_g)        \n",
    "print(\"Best score: \", best_score)"
   ]
  },
  {
   "cell_type": "code",
   "execution_count": null,
   "metadata": {},
   "outputs": [],
   "source": [
    "S.fit(X_train, np.ravel(y_train))\n",
    "print('Test score: ', S.score(X_test, np.ravel(y_test)))"
   ]
  },
  {
   "cell_type": "code",
   "execution_count": null,
   "metadata": {
    "scrolled": false
   },
   "outputs": [],
   "source": [
    "plot_confusion_matrix_(S,X_test, y_test)"
   ]
  },
  {
   "cell_type": "code",
   "execution_count": null,
   "metadata": {
    "scrolled": true
   },
   "outputs": [],
   "source": [
    "y_test_pred = S.predict(X_test)\n",
    "Y_test = y_test.copy() #make a copy of y_test dataframe\n",
    "Y_test['Species_pred']= y_test_pred\n",
    "Y_test[(Y_test[\"Species\"] == 1) & (Y_test['Species_pred'] == 0)]"
   ]
  },
  {
   "cell_type": "markdown",
   "metadata": {},
   "source": [
    "SVC made the same mistake as MLR model. We expect the same reason here."
   ]
  },
  {
   "cell_type": "markdown",
   "metadata": {},
   "source": [
    "## Discussion"
   ]
  },
  {
   "cell_type": "markdown",
   "metadata": {},
   "source": [
    "Overall our models predicted the target variable well, which suggests that our selected predicted variables were efficient. All of our models made mistakes between the same species: Adelie and Chinstrap. Specifically, Chinstrap was mistaken for Adelie. When looking at our figures, there are potential reasons that contribute this mistake. First, for body mass, there is a significant overlap for Adelie and Chinstrap. Moreover, while most data points were clearly segregated, there were still some ambigurities for culmen length/depth's boundries. However, different models yielded slightly different results; specificly our mlr and svc models only made one mistake while decision tree model made three mistakes. This may be due to the fact that decision tree model works on series of if-else conditions. Since the boundries were more concrete, it may not have caught subtle nuance the other models have. Since the other two models works on functions to create decision regions, they are more flexible."
   ]
  },
  {
   "cell_type": "markdown",
   "metadata": {},
   "source": [
    "Overall, we suggest to use either SVC model or MLR model with Body Mass, Culmen Length, Culmen Depth with predictor variables. We can improve our models by performing grid searches on more parameters for each model. However, the more parameters we tried to tune, the longer it takes to excute."
   ]
  }
 ],
 "metadata": {
  "kernelspec": {
   "display_name": "Python 3",
   "language": "python",
   "name": "python3"
  },
  "language_info": {
   "codemirror_mode": {
    "name": "ipython",
    "version": 3
   },
   "file_extension": ".py",
   "mimetype": "text/x-python",
   "name": "python",
   "nbconvert_exporter": "python",
   "pygments_lexer": "ipython3",
   "version": "3.7.9"
  }
 },
 "nbformat": 4,
 "nbformat_minor": 4
}
